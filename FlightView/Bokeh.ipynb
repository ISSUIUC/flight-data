{
 "cells": [
  {
   "cell_type": "markdown",
   "metadata": {},
   "source": [
    "# Data Plot"
   ]
  },
  {
   "cell_type": "code",
   "execution_count": 35,
   "metadata": {},
   "outputs": [
    {
     "name": "stdout",
     "output_type": "stream",
     "text": [
      "0        194.5435\n",
      "1        194.5445\n",
      "2        194.5455\n",
      "3        194.5465\n",
      "4        194.5475\n",
      "           ...   \n",
      "18984    213.5275\n",
      "18985    213.5285\n",
      "18986    213.5295\n",
      "18987    213.5305\n",
      "18988    213.5315\n",
      "Name: timestamp_ms, Length: 18989, dtype: float64\n"
     ]
    }
   ],
   "source": [
    "from bokeh.io import show\n",
    "from bokeh.models import ColumnDataSource\n",
    "from bokeh.plotting import figure\n",
    "import pandas as pd\n",
    "from bokeh.models import (ColumnDataSource, DataTable, HoverTool, IntEditor,\n",
    "                          NumberEditor, NumberFormatter, SelectEditor,\n",
    "                          StringEditor, StringFormatter, TableColumn)\n",
    "\n",
    "# Load the flight data from the CSV file\n",
    "mpg = pd.read_csv(\"https://raw.githubusercontent.com/ISSUIUC/flight-data/master/20221029/flight_computer.csv\")\n",
    "\n",
    "# Create a ColumnDataSource from the flight data\n",
    "source = ColumnDataSource(mpg)\n",
    "\n",
    "\n",
    "timearr = mpg['timestamp_ms'].div(10000)\n",
    "print(timearr)\n",
    "\n",
    "axs = sorted(mpg[\"ax\"].unique())\n",
    "ays = sorted(mpg[\"ay\"].unique())\n",
    "azs = sorted(mpg[\"az\"].unique())\n",
    "time = sorted(mpg[\"timestamp_ms\"].unique())\n",
    "\n",
    "\n",
    "columns = [\n",
    "    TableColumn(field=\"ax\", title=\"axs\",\n",
    "                editor=NumberEditor(step=0.1), formatter=NumberFormatter(format=\"0.0000\")),\n",
    "    TableColumn(field=\"ay\", title=\"ays\",\n",
    "                editor=NumberEditor(step=0.1), formatter=NumberFormatter(format=\"0.0000\")),\n",
    "    TableColumn(field=\"az\", title=\"azs\",\n",
    "                editor=NumberEditor(step=0.1), formatter=NumberFormatter(format=\"0.0000\")),\n",
    "    TableColumn(field=\"timestamp_ms\", title=\"timestamp_ms\",\n",
    "                editor=NumberEditor(step=0.1), formatter=NumberFormatter(format=\"0.0000\")),\n",
    "\n",
    "    \n",
    "]\n",
    "data_table = DataTable(source=source, columns=columns, editable=True, width=800,\n",
    "                       index_position=-1, index_header=\"row index\", index_width=60)\n",
    "\n",
    "p = figure(width=800, height=300, tools=\"pan,wheel_zoom,xbox_select,reset\", active_drag=\"xbox_select\")\n",
    "\n",
    "ax = p.circle(x=\"index\", y=\"ax\", fill_color=\"#396285\", size=8, alpha=0.5, source=source)\n",
    "ay = p.circle(x=\"index\", y=\"ay\", fill_color=\"#CE603D\", size=8, alpha=0.5, source=source)\n",
    "\n",
    "tooltips = [\n",
    "    (\"ax\", \"@ax\"),\n",
    "    (\"ay\", \"@ay\"),\n",
    "    (\"az\", \"@az\"),\n",
    "    (\"timearr\",\"@time\")\n",
    "]\n",
    "\n",
    "cty_hover_tool = HoverTool(renderers=[ax], tooltips=tooltips + [(\"time\", \"@time\")])\n",
    "hwy_hover_tool = HoverTool(renderers=[ay], tooltips=tooltips + [(\"ax\", \"@ax\")])\n",
    "\n",
    "p.add_tools(cty_hover_tool, hwy_hover_tool)\n",
    "\n",
    "show(column(p, data_table))"
   ]
  },
  {
   "cell_type": "markdown",
   "metadata": {},
   "source": [
    "# Legend hide\n"
   ]
  },
  {
   "cell_type": "code",
   "execution_count": null,
   "metadata": {},
   "outputs": [],
   "source": [
    "from bokeh.plotting import figure, show\n",
    "from bokeh.models import ColumnDataSource, Legend\n",
    "\n",
    "# Import the CSV file\n",
    "import pandas as pd\n",
    "data = pd.read_csv('https://raw.githubusercontent.com/ISSUIUC/flight-data/master/20221029/flight_computer.csv')\n",
    "\n",
    "# Create a ColumnDataSource with the relevant data\n",
    "source = ColumnDataSource(data={\n",
    "    'a': range(len(df['ax'])),\n",
    "    'x': data['ax'],\n",
    "    'y': data['ay'],\n",
    "    'z': data['az']\n",
    "})\n",
    "\n",
    "# Create a figure with three line plots\n",
    "p = figure(width=800, height=400)\n",
    "p.line('a', 'y', source=source, legend_label='ax')\n",
    "p.line('a', 'z', source=source, legend_label='ay', line_color='green')\n",
    "p.line('a', 'x', source=source, legend_label='az', line_color='red')\n",
    "\n",
    "# Create a legend and add the 'legend_hide' feature\n",
    "legend = Legend(items=[\n",
    "    ('ax', [p.renderers[0]]),\n",
    "    ('ay', [p.renderers[1]]),\n",
    "    ('az', [p.renderers[2]])\n",
    "], location='top_left')\n",
    "legend.click_policy = 'hide'\n",
    "p.add_layout(legend, 'left')\n",
    "\n",
    "# Show the plot\n",
    "show(p)"
   ]
  },
  {
   "cell_type": "markdown",
   "metadata": {},
   "source": [
    "# Range tool"
   ]
  },
  {
   "cell_type": "code",
   "execution_count": 39,
   "metadata": {},
   "outputs": [],
   "source": [
    "from bokeh.plotting import figure, show\n",
    "import bokeh\n",
    "\n",
    "import pandas as pd\n",
    "\n",
    "df = pd.read_csv('https://raw.githubusercontent.com/ISSUIUC/flight-data/master/20221029/flight_computer.csv')\n",
    "\n",
    "import numpy as np\n",
    "\n",
    "from bokeh.layouts import column\n",
    "from bokeh.models import ColumnDataSource, RangeTool\n",
    "from bokeh.plotting import figure, show\n",
    "time_data = df['timestamp_ms']\n",
    "alt_data = df['barometer_altitude']\n",
    "mx_data = df['mx']\n",
    "my_data = df['my']\n",
    "source = ColumnDataSource(data=dict(time=time_data, alt=alt_data, mx=mx_data, my=my_data))\n",
    "\n",
    "p = figure(height=300, width=800, tools=\"xpan\", toolbar_location=None,\n",
    "           x_axis_type=\"datetime\", x_axis_location=\"above\",\n",
    "           background_fill_color=\"#efefef\", x_range=(time_data[1500], time_data[2500]))\n",
    "\n",
    "p.line('time', 'alt', source=source)\n",
    "#p.line('time', 'mx', source=source)\n",
    "p.yaxis.axis_label = 'Altitude and mx'\n",
    "\n",
    "select = figure(title=\"Drag the middle and edges of the selection box to change the range above\",\n",
    "                height=130, width=800, y_range=p.y_range,\n",
    "                x_axis_type=\"datetime\", y_axis_type=None,\n",
    "                tools=\"\", toolbar_location=None, background_fill_color=\"#efefef\")\n",
    "\n",
    "range_tool = RangeTool(x_range=p.x_range)\n",
    "range_tool.overlay.fill_color = \"navy\"\n",
    "range_tool.overlay.fill_alpha = 0.2\n",
    "\n",
    "select.line('time', 'alt', source=source)\n",
    "select.ygrid.grid_line_color = None\n",
    "select.add_tools(range_tool)\n",
    "select.toolbar.active_multi = range_tool\n",
    "\n",
    "show(column(p, select))"
   ]
  },
  {
   "cell_type": "code",
   "execution_count": null,
   "metadata": {},
   "outputs": [],
   "source": []
  }
 ],
 "metadata": {
  "kernelspec": {
   "display_name": "Python 3",
   "language": "python",
   "name": "python3"
  },
  "language_info": {
   "codemirror_mode": {
    "name": "ipython",
    "version": 3
   },
   "file_extension": ".py",
   "mimetype": "text/x-python",
   "name": "python",
   "nbconvert_exporter": "python",
   "pygments_lexer": "ipython3",
   "version": "3.7.6"
  }
 },
 "nbformat": 4,
 "nbformat_minor": 4
}
